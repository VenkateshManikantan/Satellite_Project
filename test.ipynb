{
 "cells": [
  {
   "cell_type": "code",
   "execution_count": null,
   "metadata": {},
   "outputs": [],
   "source": []
  }
 ],
 "metadata": {
  "kernelspec": {
   "display_name": "FRONT_END",
   "language": "python",
   "name": "python3"
  },
  "language_info": {
   "name": "python",
   "version": "3.9.15"
  },
  "orig_nbformat": 4,
  "vscode": {
   "interpreter": {
    "hash": "83af584f6988ddbfae9f272d9b2cb31be94bc54b1f3f2e7dcc4d9fd76d44b889"
   }
  }
 },
 "nbformat": 4,
 "nbformat_minor": 2
}
